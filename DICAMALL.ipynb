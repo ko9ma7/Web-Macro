{
 "cells": [
  {
   "cell_type": "code",
   "execution_count": 1,
   "metadata": {},
   "outputs": [],
   "source": [
    "from selenium import webdriver\n",
    "\n",
    "import time\n",
    "\n",
    "driver = webdriver.Chrome(\"D:/temp/chromedriver.exe\")\n",
    "\n",
    "url = 'http://dicamall.co.kr/product/detail.html?product_no=746&cate_no=709&display_group=1#none'\n",
    "driver.get(url)"
   ]
  },
  {
   "cell_type": "code",
   "execution_count": null,
   "metadata": {},
   "outputs": [],
   "source": [
    "while True:\n",
    "    xpath = \"//a[@class=' -btn -lg -lgrey']\"\n",
    "    el = driver.find_element_by_xpath(xpath)\n",
    "\n",
    "    if el.text == 'SOLD OUT' :\n",
    "        driver.refresh()\n",
    "        time.sleep(2)\n",
    "    else :\n",
    "        el.click()\n",
    "        break\n",
    "\n",
    "from playsound import playsound\n",
    "playsound('D:/temp/sister_calling.mp3')"
   ]
  },
  {
   "cell_type": "code",
   "execution_count": null,
   "metadata": {},
   "outputs": [],
   "source": []
  }
 ],
 "metadata": {
  "kernelspec": {
   "display_name": "Python 3",
   "language": "python",
   "name": "python3"
  },
  "language_info": {
   "codemirror_mode": {
    "name": "ipython",
    "version": 3
   },
   "file_extension": ".py",
   "mimetype": "text/x-python",
   "name": "python",
   "nbconvert_exporter": "python",
   "pygments_lexer": "ipython3",
   "version": "3.8.3"
  }
 },
 "nbformat": 4,
 "nbformat_minor": 4
}

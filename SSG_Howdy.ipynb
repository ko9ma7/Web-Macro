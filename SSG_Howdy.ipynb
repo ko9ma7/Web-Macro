{
 "cells": [
  {
   "cell_type": "code",
   "execution_count": 1,
   "metadata": {},
   "outputs": [],
   "source": [
    "from selenium import webdriver\n",
    "\n",
    "import time\n",
    "\n",
    "driver = webdriver.Chrome(\"D:/temp/chromedriver.exe\")\n",
    "\n",
    "url = 'http://www.ssg.com/item/itemView.ssg?itemId=1000055590718&ckwhere=linkprice'\n",
    "driver.get(url)"
   ]
  },
  {
   "cell_type": "code",
   "execution_count": null,
   "metadata": {},
   "outputs": [],
   "source": [
    "while True:\n",
    "    xpath = \"//a[@class='cdtl_disabled cdtl_btn_temp']\"\n",
    "    el = driver.find_element_by_xpath(xpath)\n",
    "\n",
    "    if el.text == '일시품절' :\n",
    "        driver.refresh()\n",
    "        time.sleep(1)\n",
    "    else :\n",
    "        el.click()\n",
    "        break\n",
    "\n",
    "from playsound import playsound\n",
    "playsound('D:/temp/sister_calling.mp3')"
   ]
  },
  {
   "cell_type": "code",
   "execution_count": null,
   "metadata": {},
   "outputs": [],
   "source": []
  }
 ],
 "metadata": {
  "kernelspec": {
   "display_name": "Python 3",
   "language": "python",
   "name": "python3"
  },
  "language_info": {
   "codemirror_mode": {
    "name": "ipython",
    "version": 3
   },
   "file_extension": ".py",
   "mimetype": "text/x-python",
   "name": "python",
   "nbconvert_exporter": "python",
   "pygments_lexer": "ipython3",
   "version": "3.8.3"
  }
 },
 "nbformat": 4,
 "nbformat_minor": 4
}
